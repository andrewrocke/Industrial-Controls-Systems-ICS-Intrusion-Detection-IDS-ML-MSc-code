import cv2
import matplotlib.pyplot as plt
import numpy as np
 
# read the image
img = cv2.imread('test.jpg')
# convert to RGB
img = cv2.cvtColor(img, cv2.COLOR_BGR2RGB)
# plot the image
plt.imshow(img)
