{
 "cells": [
  {
   "cell_type": "code",
   "execution_count": 2,
   "metadata": {},
   "outputs": [
    {
     "ename": "IndexError",
     "evalue": "Layer [IP] not found",
     "output_type": "error",
     "traceback": [
      "\u001b[1;31m---------------------------------------------------------------------------\u001b[0m",
      "\u001b[1;31mIndexError\u001b[0m                                Traceback (most recent call last)",
      "Cell \u001b[1;32mIn[2], line 36\u001b[0m\n\u001b[0;32m     33\u001b[0m     f\u001b[38;5;241m.\u001b[39mwritelines(line_list)\n\u001b[0;32m     34\u001b[0m     f\u001b[38;5;241m.\u001b[39mclose()\n\u001b[1;32m---> 36\u001b[0m \u001b[43mprocess_pcap\u001b[49m\u001b[43m(\u001b[49m\u001b[43mpcap_file\u001b[49m\u001b[43m,\u001b[49m\u001b[43m \u001b[49m\u001b[43moutput_file\u001b[49m\u001b[43m)\u001b[49m\n",
      "Cell \u001b[1;32mIn[2], line 16\u001b[0m, in \u001b[0;36mprocess_pcap\u001b[1;34m(in_file, out_file)\u001b[0m\n\u001b[0;32m     14\u001b[0m \u001b[38;5;28;01mfor\u001b[39;00m (pkt_data, pkt_metadata,) \u001b[38;5;129;01min\u001b[39;00m RawPcapReader(in_file):\n\u001b[0;32m     15\u001b[0m     ether_pkt \u001b[38;5;241m=\u001b[39m Ether(pkt_data)\n\u001b[1;32m---> 16\u001b[0m     ip_pkt \u001b[38;5;241m=\u001b[39m \u001b[43mether_pkt\u001b[49m\u001b[43m[\u001b[49m\u001b[43mIP\u001b[49m\u001b[43m]\u001b[49m\n\u001b[0;32m     17\u001b[0m     src \u001b[38;5;241m=\u001b[39m ip_pkt\u001b[38;5;241m.\u001b[39msrc \u001b[38;5;66;03m# Get the source IP\u001b[39;00m\n\u001b[0;32m     18\u001b[0m     dst \u001b[38;5;241m=\u001b[39m ip_pkt\u001b[38;5;241m.\u001b[39mdst \u001b[38;5;66;03m# Get the destination IP\u001b[39;00m\n",
      "File \u001b[1;32m~\\AppData\\Local\\Packages\\PythonSoftwareFoundation.Python.3.12_qbz5n2kfra8p0\\LocalCache\\local-packages\\Python312\\site-packages\\scapy\\packet.py:1384\u001b[0m, in \u001b[0;36mPacket.__getitem__\u001b[1;34m(self, cls)\u001b[0m\n\u001b[0;32m   1382\u001b[0m     \u001b[38;5;28;01melse\u001b[39;00m:\n\u001b[0;32m   1383\u001b[0m         name \u001b[38;5;241m=\u001b[39m cast(\u001b[38;5;28mstr\u001b[39m, lname)\n\u001b[1;32m-> 1384\u001b[0m     \u001b[38;5;28;01mraise\u001b[39;00m \u001b[38;5;167;01mIndexError\u001b[39;00m(\u001b[38;5;124m\"\u001b[39m\u001b[38;5;124mLayer [\u001b[39m\u001b[38;5;132;01m%s\u001b[39;00m\u001b[38;5;124m] not found\u001b[39m\u001b[38;5;124m\"\u001b[39m \u001b[38;5;241m%\u001b[39m name)\n\u001b[0;32m   1385\u001b[0m \u001b[38;5;28;01mreturn\u001b[39;00m ret\n",
      "\u001b[1;31mIndexError\u001b[0m: Layer [IP] not found"
     ]
    }
   ],
   "source": [
    "import pandas as pd \n",
    "from scapy.utils import RawPcapReader\n",
    "from scapy.layers.l2 import Ether\n",
    "from scapy.layers.inet import IP\n",
    "pcap_file = 'veth665f3cf-0.pcap'\n",
    "output_file = '0.csv'\n",
    "def process_pcap(in_file, out_file):\n",
    "    f = open(out_file, \"w+\")\n",
    "    count = 0\n",
    "    first_timestamp = 0\n",
    "    line_list = []\n",
    "    \n",
    "    # Looping through all the packets in the PCAP\n",
    "    for (pkt_data, pkt_metadata,) in RawPcapReader(in_file):\n",
    "        ether_pkt = Ether(pkt_data)\n",
    "        ip_pkt = ether_pkt[IP]\n",
    "        src = ip_pkt.src # Get the source IP\n",
    "        dst = ip_pkt.dst # Get the destination IP\n",
    "        \n",
    "        # Calculate the relative timestamp of packets compared to the first packet\n",
    "        timestamp = pkt_metadata.sec + (pkt_metadata.usec)/1000000\n",
    "        if count == 0:\n",
    "            first_timestamp = timestamp\n",
    "            relative_timestamp = 0.0\n",
    "        else:\n",
    "            relative_timestamp = timestamp - first_timestamp\n",
    "        \n",
    "        pkt_size = pkt_metadata.caplen # Get packet size\n",
    "        count += 1\n",
    "        line = src + \" \" + dst + \" \" + str(round(relative_timestamp, 6)) + \" \" + str(pkt_size) + \" \" + str(ip_pkt.proto) + \" \" + str(ip_pkt.sport) + \" \" + str(ip_pkt.dport) + \"\\n\"\n",
    "        line_list.append(line)\n",
    "    \n",
    "    f.writelines(line_list)\n",
    "    f.close()\n",
    "    \n",
    "process_pcap(pcap_file, output_file)"
   ]
  }
 ],
 "metadata": {
  "kernelspec": {
   "display_name": "Python 3",
   "language": "python",
   "name": "python3"
  },
  "language_info": {
   "codemirror_mode": {
    "name": "ipython",
    "version": 3
   },
   "file_extension": ".py",
   "mimetype": "text/x-python",
   "name": "python",
   "nbconvert_exporter": "python",
   "pygments_lexer": "ipython3",
   "version": "3.12.7"
  }
 },
 "nbformat": 4,
 "nbformat_minor": 2
}
